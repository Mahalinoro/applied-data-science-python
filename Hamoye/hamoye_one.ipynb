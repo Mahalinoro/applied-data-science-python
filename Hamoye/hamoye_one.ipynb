{
  "nbformat": 4,
  "nbformat_minor": 0,
  "metadata": {
    "colab": {
      "name": "hamoye_one.ipynb",
      "provenance": []
    },
    "kernelspec": {
      "name": "python3",
      "display_name": "Python 3"
    }
  },
  "cells": [
    {
      "cell_type": "markdown",
      "metadata": {
        "id": "pV6OU9Q3qUEI",
        "colab_type": "text"
      },
      "source": [
        "## Introduction to Python for Machine Learning\n",
        "#### Hamoye #1"
      ]
    },
    {
      "cell_type": "markdown",
      "metadata": {
        "id": "hkMaIn0NqhCa",
        "colab_type": "text"
      },
      "source": [
        "#### Import libraries & load the data\n",
        "\n",
        "\n"
      ]
    },
    {
      "cell_type": "code",
      "metadata": {
        "id": "WJv58Avl_yu_",
        "colab_type": "code",
        "colab": {}
      },
      "source": [
        "import numpy as np\n",
        "import pandas as pd\n"
      ],
      "execution_count": null,
      "outputs": []
    },
    {
      "cell_type": "code",
      "metadata": {
        "id": "mc3PVR9oAJzm",
        "colab_type": "code",
        "colab": {
          "base_uri": "https://localhost:8080/",
          "height": 217
        },
        "outputId": "633710e0-cd35-4610-e163-95a3c27b744a"
      },
      "source": [
        "data = pd.read_csv('https://raw.githubusercontent.com/WalePhenomenon/climate_change/master/fuel_ferc1.csv')\n",
        "data.head()"
      ],
      "execution_count": null,
      "outputs": [
        {
          "output_type": "execute_result",
          "data": {
            "text/html": [
              "<div>\n",
              "<style scoped>\n",
              "    .dataframe tbody tr th:only-of-type {\n",
              "        vertical-align: middle;\n",
              "    }\n",
              "\n",
              "    .dataframe tbody tr th {\n",
              "        vertical-align: top;\n",
              "    }\n",
              "\n",
              "    .dataframe thead th {\n",
              "        text-align: right;\n",
              "    }\n",
              "</style>\n",
              "<table border=\"1\" class=\"dataframe\">\n",
              "  <thead>\n",
              "    <tr style=\"text-align: right;\">\n",
              "      <th></th>\n",
              "      <th>record_id</th>\n",
              "      <th>utility_id_ferc1</th>\n",
              "      <th>report_year</th>\n",
              "      <th>plant_name_ferc1</th>\n",
              "      <th>fuel_type_code_pudl</th>\n",
              "      <th>fuel_unit</th>\n",
              "      <th>fuel_qty_burned</th>\n",
              "      <th>fuel_mmbtu_per_unit</th>\n",
              "      <th>fuel_cost_per_unit_burned</th>\n",
              "      <th>fuel_cost_per_unit_delivered</th>\n",
              "      <th>fuel_cost_per_mmbtu</th>\n",
              "    </tr>\n",
              "  </thead>\n",
              "  <tbody>\n",
              "    <tr>\n",
              "      <th>0</th>\n",
              "      <td>f1_fuel_1994_12_1_0_7</td>\n",
              "      <td>1</td>\n",
              "      <td>1994</td>\n",
              "      <td>rockport</td>\n",
              "      <td>coal</td>\n",
              "      <td>ton</td>\n",
              "      <td>5377489.0</td>\n",
              "      <td>16.590</td>\n",
              "      <td>18.59</td>\n",
              "      <td>18.53</td>\n",
              "      <td>1.121</td>\n",
              "    </tr>\n",
              "    <tr>\n",
              "      <th>1</th>\n",
              "      <td>f1_fuel_1994_12_1_0_10</td>\n",
              "      <td>1</td>\n",
              "      <td>1994</td>\n",
              "      <td>rockport total plant</td>\n",
              "      <td>coal</td>\n",
              "      <td>ton</td>\n",
              "      <td>10486945.0</td>\n",
              "      <td>16.592</td>\n",
              "      <td>18.58</td>\n",
              "      <td>18.53</td>\n",
              "      <td>1.120</td>\n",
              "    </tr>\n",
              "    <tr>\n",
              "      <th>2</th>\n",
              "      <td>f1_fuel_1994_12_2_0_1</td>\n",
              "      <td>2</td>\n",
              "      <td>1994</td>\n",
              "      <td>gorgas</td>\n",
              "      <td>coal</td>\n",
              "      <td>ton</td>\n",
              "      <td>2978683.0</td>\n",
              "      <td>24.130</td>\n",
              "      <td>39.72</td>\n",
              "      <td>38.12</td>\n",
              "      <td>1.650</td>\n",
              "    </tr>\n",
              "    <tr>\n",
              "      <th>3</th>\n",
              "      <td>f1_fuel_1994_12_2_0_7</td>\n",
              "      <td>2</td>\n",
              "      <td>1994</td>\n",
              "      <td>barry</td>\n",
              "      <td>coal</td>\n",
              "      <td>ton</td>\n",
              "      <td>3739484.0</td>\n",
              "      <td>23.950</td>\n",
              "      <td>47.21</td>\n",
              "      <td>45.99</td>\n",
              "      <td>1.970</td>\n",
              "    </tr>\n",
              "    <tr>\n",
              "      <th>4</th>\n",
              "      <td>f1_fuel_1994_12_2_0_10</td>\n",
              "      <td>2</td>\n",
              "      <td>1994</td>\n",
              "      <td>chickasaw</td>\n",
              "      <td>gas</td>\n",
              "      <td>mcf</td>\n",
              "      <td>40533.0</td>\n",
              "      <td>1.000</td>\n",
              "      <td>2.77</td>\n",
              "      <td>2.77</td>\n",
              "      <td>2.570</td>\n",
              "    </tr>\n",
              "  </tbody>\n",
              "</table>\n",
              "</div>"
            ],
            "text/plain": [
              "                record_id  ...  fuel_cost_per_mmbtu\n",
              "0   f1_fuel_1994_12_1_0_7  ...                1.121\n",
              "1  f1_fuel_1994_12_1_0_10  ...                1.120\n",
              "2   f1_fuel_1994_12_2_0_1  ...                1.650\n",
              "3   f1_fuel_1994_12_2_0_7  ...                1.970\n",
              "4  f1_fuel_1994_12_2_0_10  ...                2.570\n",
              "\n",
              "[5 rows x 11 columns]"
            ]
          },
          "metadata": {
            "tags": []
          },
          "execution_count": 8
        }
      ]
    },
    {
      "cell_type": "markdown",
      "metadata": {
        "id": "FF3UH1A4URFL",
        "colab_type": "text"
      },
      "source": [
        "#### Fuel type with the lowest average of fuel cost per unit burned"
      ]
    },
    {
      "cell_type": "code",
      "metadata": {
        "id": "_M2nA5ThUaX3",
        "colab_type": "code",
        "colab": {
          "base_uri": "https://localhost:8080/",
          "height": 34
        },
        "outputId": "78cdd39d-3198-41b9-e599-ae42c79e168b"
      },
      "source": [
        "fuel = data[['fuel_type_code_pudl', 'fuel_cost_per_unit_burned']]\n",
        "fuel.set_index('fuel_type_code_pudl')\n",
        "fuel = fuel.groupby([\"fuel_type_code_pudl\"]).mean()\n",
        "fuel = fuel.sort_values(by=['fuel_cost_per_unit_burned'], ascending=True)\n",
        "fuel.index[0]"
      ],
      "execution_count": null,
      "outputs": [
        {
          "output_type": "execute_result",
          "data": {
            "application/vnd.google.colaboratory.intrinsic": {
              "type": "string"
            },
            "text/plain": [
              "'gas'"
            ]
          },
          "metadata": {
            "tags": []
          },
          "execution_count": 27
        }
      ]
    },
    {
      "cell_type": "markdown",
      "metadata": {
        "id": "NBTlWvshXfNT",
        "colab_type": "text"
      },
      "source": [
        "###### **Gas** is the ype of fuel with the lowest average of fuel cost per unit burned."
      ]
    },
    {
      "cell_type": "markdown",
      "metadata": {
        "id": "F40oz7_QXrat",
        "colab_type": "text"
      },
      "source": [
        "#### Standard Deviation and 75th percentile of energy per unit\n"
      ]
    },
    {
      "cell_type": "code",
      "metadata": {
        "id": "XDrY2Je3Xlzm",
        "colab_type": "code",
        "colab": {
          "base_uri": "https://localhost:8080/",
          "height": 287
        },
        "outputId": "2f63ed64-9107-45c9-eda3-19b201a1d759"
      },
      "source": [
        "data.describe()"
      ],
      "execution_count": null,
      "outputs": [
        {
          "output_type": "execute_result",
          "data": {
            "text/html": [
              "<div>\n",
              "<style scoped>\n",
              "    .dataframe tbody tr th:only-of-type {\n",
              "        vertical-align: middle;\n",
              "    }\n",
              "\n",
              "    .dataframe tbody tr th {\n",
              "        vertical-align: top;\n",
              "    }\n",
              "\n",
              "    .dataframe thead th {\n",
              "        text-align: right;\n",
              "    }\n",
              "</style>\n",
              "<table border=\"1\" class=\"dataframe\">\n",
              "  <thead>\n",
              "    <tr style=\"text-align: right;\">\n",
              "      <th></th>\n",
              "      <th>utility_id_ferc1</th>\n",
              "      <th>report_year</th>\n",
              "      <th>fuel_qty_burned</th>\n",
              "      <th>fuel_mmbtu_per_unit</th>\n",
              "      <th>fuel_cost_per_unit_burned</th>\n",
              "      <th>fuel_cost_per_unit_delivered</th>\n",
              "      <th>fuel_cost_per_mmbtu</th>\n",
              "    </tr>\n",
              "  </thead>\n",
              "  <tbody>\n",
              "    <tr>\n",
              "      <th>count</th>\n",
              "      <td>29523.000000</td>\n",
              "      <td>29523.000000</td>\n",
              "      <td>2.952300e+04</td>\n",
              "      <td>29523.000000</td>\n",
              "      <td>29523.000000</td>\n",
              "      <td>2.952300e+04</td>\n",
              "      <td>29523.000000</td>\n",
              "    </tr>\n",
              "    <tr>\n",
              "      <th>mean</th>\n",
              "      <td>118.601836</td>\n",
              "      <td>2005.806050</td>\n",
              "      <td>2.622119e+06</td>\n",
              "      <td>8.492111</td>\n",
              "      <td>208.649031</td>\n",
              "      <td>9.175704e+02</td>\n",
              "      <td>19.304354</td>\n",
              "    </tr>\n",
              "    <tr>\n",
              "      <th>std</th>\n",
              "      <td>74.178353</td>\n",
              "      <td>7.025483</td>\n",
              "      <td>9.118004e+06</td>\n",
              "      <td>10.600220</td>\n",
              "      <td>2854.490090</td>\n",
              "      <td>6.877593e+04</td>\n",
              "      <td>2091.540939</td>\n",
              "    </tr>\n",
              "    <tr>\n",
              "      <th>min</th>\n",
              "      <td>1.000000</td>\n",
              "      <td>1994.000000</td>\n",
              "      <td>1.000000e+00</td>\n",
              "      <td>0.000001</td>\n",
              "      <td>-276.080000</td>\n",
              "      <td>-8.749370e+02</td>\n",
              "      <td>-41.501000</td>\n",
              "    </tr>\n",
              "    <tr>\n",
              "      <th>25%</th>\n",
              "      <td>55.000000</td>\n",
              "      <td>2000.000000</td>\n",
              "      <td>1.381700e+04</td>\n",
              "      <td>1.024000</td>\n",
              "      <td>5.207000</td>\n",
              "      <td>3.778500e+00</td>\n",
              "      <td>1.940000</td>\n",
              "    </tr>\n",
              "    <tr>\n",
              "      <th>50%</th>\n",
              "      <td>122.000000</td>\n",
              "      <td>2006.000000</td>\n",
              "      <td>2.533220e+05</td>\n",
              "      <td>5.762694</td>\n",
              "      <td>26.000000</td>\n",
              "      <td>1.737100e+01</td>\n",
              "      <td>4.127000</td>\n",
              "    </tr>\n",
              "    <tr>\n",
              "      <th>75%</th>\n",
              "      <td>176.000000</td>\n",
              "      <td>2012.000000</td>\n",
              "      <td>1.424034e+06</td>\n",
              "      <td>17.006000</td>\n",
              "      <td>47.113000</td>\n",
              "      <td>4.213700e+01</td>\n",
              "      <td>7.745000</td>\n",
              "    </tr>\n",
              "    <tr>\n",
              "      <th>max</th>\n",
              "      <td>514.000000</td>\n",
              "      <td>2018.000000</td>\n",
              "      <td>5.558942e+08</td>\n",
              "      <td>341.260000</td>\n",
              "      <td>139358.000000</td>\n",
              "      <td>7.964521e+06</td>\n",
              "      <td>359278.000000</td>\n",
              "    </tr>\n",
              "  </tbody>\n",
              "</table>\n",
              "</div>"
            ],
            "text/plain": [
              "       utility_id_ferc1  ...  fuel_cost_per_mmbtu\n",
              "count      29523.000000  ...         29523.000000\n",
              "mean         118.601836  ...            19.304354\n",
              "std           74.178353  ...          2091.540939\n",
              "min            1.000000  ...           -41.501000\n",
              "25%           55.000000  ...             1.940000\n",
              "50%          122.000000  ...             4.127000\n",
              "75%          176.000000  ...             7.745000\n",
              "max          514.000000  ...        359278.000000\n",
              "\n",
              "[8 rows x 7 columns]"
            ]
          },
          "metadata": {
            "tags": []
          },
          "execution_count": 28
        }
      ]
    },
    {
      "cell_type": "markdown",
      "metadata": {
        "id": "KBzRbxs4X_nA",
        "colab_type": "text"
      },
      "source": [
        "##### The standard deviation is **10.60** and the 75th percentile is **17.00**"
      ]
    },
    {
      "cell_type": "markdown",
      "metadata": {
        "id": "N0UGJK1pYIla",
        "colab_type": "text"
      },
      "source": [
        "#### The skewness and kurtosis for the fuel quantity burned "
      ]
    },
    {
      "cell_type": "code",
      "metadata": {
        "id": "4gry6aYsYdE9",
        "colab_type": "code",
        "colab": {
          "base_uri": "https://localhost:8080/",
          "height": 150
        },
        "outputId": "5be2b7f9-8ac9-49cb-b0b4-c0a9b05aacb6"
      },
      "source": [
        "data.kurtosis()"
      ],
      "execution_count": null,
      "outputs": [
        {
          "output_type": "execute_result",
          "data": {
            "text/plain": [
              "utility_id_ferc1                    1.088432\n",
              "report_year                        -1.145656\n",
              "fuel_qty_burned                   651.369450\n",
              "fuel_mmbtu_per_unit                55.595695\n",
              "fuel_cost_per_unit_burned         485.255851\n",
              "fuel_cost_per_unit_delivered    11765.054226\n",
              "fuel_cost_per_mmbtu             29489.132594\n",
              "dtype: float64"
            ]
          },
          "metadata": {
            "tags": []
          },
          "execution_count": 31
        }
      ]
    },
    {
      "cell_type": "code",
      "metadata": {
        "id": "4wK7FEXgYuhn",
        "colab_type": "code",
        "colab": {
          "base_uri": "https://localhost:8080/",
          "height": 150
        },
        "outputId": "fb37cb57-8d41-4a9f-db47-a011f6af9ec0"
      },
      "source": [
        "data.skew()"
      ],
      "execution_count": null,
      "outputs": [
        {
          "output_type": "execute_result",
          "data": {
            "text/plain": [
              "utility_id_ferc1                  0.605070\n",
              "report_year                       0.006953\n",
              "fuel_qty_burned                  15.851495\n",
              "fuel_mmbtu_per_unit               4.135217\n",
              "fuel_cost_per_unit_burned        19.787440\n",
              "fuel_cost_per_unit_delivered    105.014227\n",
              "fuel_cost_per_mmbtu             171.675535\n",
              "dtype: float64"
            ]
          },
          "metadata": {
            "tags": []
          },
          "execution_count": 32
        }
      ]
    },
    {
      "cell_type": "markdown",
      "metadata": {
        "id": "gNzVDgK5ZBBb",
        "colab_type": "text"
      },
      "source": [
        "##### The kurtosis is **651.37** and the skewness is **15.85**"
      ]
    },
    {
      "cell_type": "markdown",
      "metadata": {
        "id": "n6H5aErPZI81",
        "colab_type": "text"
      },
      "source": [
        "#### The feature has missing values and what is the total number of missing value and percentage of the missing rows as a factor of the total number of rows"
      ]
    },
    {
      "cell_type": "code",
      "metadata": {
        "id": "IA3zjizAZMy7",
        "colab_type": "code",
        "colab": {
          "base_uri": "https://localhost:8080/",
          "height": 216
        },
        "outputId": "19687ed0-74c1-4874-8369-e0c8ab82da20"
      },
      "source": [
        "data.isnull().sum()"
      ],
      "execution_count": null,
      "outputs": [
        {
          "output_type": "execute_result",
          "data": {
            "text/plain": [
              "record_id                       0.000000\n",
              "utility_id_ferc1                0.000000\n",
              "report_year                     0.000000\n",
              "plant_name_ferc1                0.000000\n",
              "fuel_type_code_pudl             0.000000\n",
              "fuel_unit                       0.609694\n",
              "fuel_qty_burned                 0.000000\n",
              "fuel_mmbtu_per_unit             0.000000\n",
              "fuel_cost_per_unit_burned       0.000000\n",
              "fuel_cost_per_unit_delivered    0.000000\n",
              "fuel_cost_per_mmbtu             0.000000\n",
              "dtype: float64"
            ]
          },
          "metadata": {
            "tags": []
          },
          "execution_count": 39
        }
      ]
    },
    {
      "cell_type": "code",
      "metadata": {
        "id": "Kj_NL2xQZeDS",
        "colab_type": "code",
        "colab": {
          "base_uri": "https://localhost:8080/",
          "height": 33
        },
        "outputId": "ad507864-d731-422e-95a2-e00f0989a5a8"
      },
      "source": [
        "data.shape"
      ],
      "execution_count": null,
      "outputs": [
        {
          "output_type": "execute_result",
          "data": {
            "text/plain": [
              "(29523, 11)"
            ]
          },
          "metadata": {
            "tags": []
          },
          "execution_count": 36
        }
      ]
    },
    {
      "cell_type": "code",
      "metadata": {
        "id": "GCnMgv4SZpfa",
        "colab_type": "code",
        "colab": {
          "base_uri": "https://localhost:8080/",
          "height": 33
        },
        "outputId": "eebd2d18-f0cf-4685-ce8f-0738bd7cce83"
      },
      "source": [
        "percentage = (180*100)/29523\n",
        "percentage"
      ],
      "execution_count": null,
      "outputs": [
        {
          "output_type": "execute_result",
          "data": {
            "text/plain": [
              "0.6096941367747181"
            ]
          },
          "metadata": {
            "tags": []
          },
          "execution_count": 37
        }
      ]
    },
    {
      "cell_type": "code",
      "metadata": {
        "id": "oN0GKAocaUWy",
        "colab_type": "code",
        "colab": {
          "base_uri": "https://localhost:8080/",
          "height": 216
        },
        "outputId": "fbca6119-0860-4d17-a535-bcdbafbafc64"
      },
      "source": [
        "data.isnull().sum()* 100 / len(data)"
      ],
      "execution_count": null,
      "outputs": [
        {
          "output_type": "execute_result",
          "data": {
            "text/plain": [
              "record_id                       0.000000\n",
              "utility_id_ferc1                0.000000\n",
              "report_year                     0.000000\n",
              "plant_name_ferc1                0.000000\n",
              "fuel_type_code_pudl             0.000000\n",
              "fuel_unit                       0.609694\n",
              "fuel_qty_burned                 0.000000\n",
              "fuel_mmbtu_per_unit             0.000000\n",
              "fuel_cost_per_unit_burned       0.000000\n",
              "fuel_cost_per_unit_delivered    0.000000\n",
              "fuel_cost_per_mmbtu             0.000000\n",
              "dtype: float64"
            ]
          },
          "metadata": {
            "tags": []
          },
          "execution_count": 40
        }
      ]
    },
    {
      "cell_type": "markdown",
      "metadata": {
        "id": "HmpuKprBahDw",
        "colab_type": "text"
      },
      "source": [
        "##### The feature is: **fuel_unit**, the missing values: **180** and the percentage: **0.609** or **0.610**"
      ]
    },
    {
      "cell_type": "markdown",
      "metadata": {
        "id": "S0ZVsiHwbAvQ",
        "colab_type": "text"
      },
      "source": [
        "#### The features has the second and third lowest correlation with the Fuel Cost Per Unit Burned"
      ]
    },
    {
      "cell_type": "code",
      "metadata": {
        "id": "ajlQkdZra1ea",
        "colab_type": "code",
        "colab": {
          "base_uri": "https://localhost:8080/",
          "height": 197
        },
        "outputId": "0856e875-2133-4f91-eeb9-ba23b215844b"
      },
      "source": [
        " corr = data[['fuel_qty_burned','fuel_mmbtu_per_unit','fuel_cost_per_unit_burned','fuel_cost_per_unit_delivered','fuel_cost_per_mmbtu']]\n",
        " corr.head()"
      ],
      "execution_count": null,
      "outputs": [
        {
          "output_type": "execute_result",
          "data": {
            "text/html": [
              "<div>\n",
              "<style scoped>\n",
              "    .dataframe tbody tr th:only-of-type {\n",
              "        vertical-align: middle;\n",
              "    }\n",
              "\n",
              "    .dataframe tbody tr th {\n",
              "        vertical-align: top;\n",
              "    }\n",
              "\n",
              "    .dataframe thead th {\n",
              "        text-align: right;\n",
              "    }\n",
              "</style>\n",
              "<table border=\"1\" class=\"dataframe\">\n",
              "  <thead>\n",
              "    <tr style=\"text-align: right;\">\n",
              "      <th></th>\n",
              "      <th>fuel_qty_burned</th>\n",
              "      <th>fuel_mmbtu_per_unit</th>\n",
              "      <th>fuel_cost_per_unit_burned</th>\n",
              "      <th>fuel_cost_per_unit_delivered</th>\n",
              "      <th>fuel_cost_per_mmbtu</th>\n",
              "    </tr>\n",
              "  </thead>\n",
              "  <tbody>\n",
              "    <tr>\n",
              "      <th>0</th>\n",
              "      <td>5377489.0</td>\n",
              "      <td>16.590</td>\n",
              "      <td>18.59</td>\n",
              "      <td>18.53</td>\n",
              "      <td>1.121</td>\n",
              "    </tr>\n",
              "    <tr>\n",
              "      <th>1</th>\n",
              "      <td>10486945.0</td>\n",
              "      <td>16.592</td>\n",
              "      <td>18.58</td>\n",
              "      <td>18.53</td>\n",
              "      <td>1.120</td>\n",
              "    </tr>\n",
              "    <tr>\n",
              "      <th>2</th>\n",
              "      <td>2978683.0</td>\n",
              "      <td>24.130</td>\n",
              "      <td>39.72</td>\n",
              "      <td>38.12</td>\n",
              "      <td>1.650</td>\n",
              "    </tr>\n",
              "    <tr>\n",
              "      <th>3</th>\n",
              "      <td>3739484.0</td>\n",
              "      <td>23.950</td>\n",
              "      <td>47.21</td>\n",
              "      <td>45.99</td>\n",
              "      <td>1.970</td>\n",
              "    </tr>\n",
              "    <tr>\n",
              "      <th>4</th>\n",
              "      <td>40533.0</td>\n",
              "      <td>1.000</td>\n",
              "      <td>2.77</td>\n",
              "      <td>2.77</td>\n",
              "      <td>2.570</td>\n",
              "    </tr>\n",
              "  </tbody>\n",
              "</table>\n",
              "</div>"
            ],
            "text/plain": [
              "   fuel_qty_burned  ...  fuel_cost_per_mmbtu\n",
              "0        5377489.0  ...                1.121\n",
              "1       10486945.0  ...                1.120\n",
              "2        2978683.0  ...                1.650\n",
              "3        3739484.0  ...                1.970\n",
              "4          40533.0  ...                2.570\n",
              "\n",
              "[5 rows x 5 columns]"
            ]
          },
          "metadata": {
            "tags": []
          },
          "execution_count": 42
        }
      ]
    },
    {
      "cell_type": "code",
      "metadata": {
        "id": "yQq1ZRAWbvBl",
        "colab_type": "code",
        "colab": {
          "base_uri": "https://localhost:8080/",
          "height": 33
        },
        "outputId": "517f7cf4-898a-4b84-d697-eea71c87572d"
      },
      "source": [
        "corr_one = data['fuel_cost_per_unit_burned'].corr(data['fuel_qty_burned'])\n",
        "corr_one"
      ],
      "execution_count": null,
      "outputs": [
        {
          "output_type": "execute_result",
          "data": {
            "text/plain": [
              "-0.018535416794825225"
            ]
          },
          "metadata": {
            "tags": []
          },
          "execution_count": 43
        }
      ]
    },
    {
      "cell_type": "code",
      "metadata": {
        "id": "LEjWNEDDcKV6",
        "colab_type": "code",
        "colab": {
          "base_uri": "https://localhost:8080/",
          "height": 33
        },
        "outputId": "ceb3492d-7a47-4395-f56d-34da4ce77ffb"
      },
      "source": [
        "corr_two = data['fuel_cost_per_unit_burned'].corr(data['fuel_mmbtu_per_unit'])\n",
        "corr_two"
      ],
      "execution_count": null,
      "outputs": [
        {
          "output_type": "execute_result",
          "data": {
            "text/plain": [
              "-0.010033808428853071"
            ]
          },
          "metadata": {
            "tags": []
          },
          "execution_count": 45
        }
      ]
    },
    {
      "cell_type": "code",
      "metadata": {
        "id": "PaB5vezrcQkV",
        "colab_type": "code",
        "colab": {
          "base_uri": "https://localhost:8080/",
          "height": 33
        },
        "outputId": "9dae9813-ac63-43f6-ad69-852ce4de095d"
      },
      "source": [
        "corr_three = (data['fuel_cost_per_unit_delivered']).corr(data['fuel_cost_per_unit_burned'])\n",
        "corr_three"
      ],
      "execution_count": null,
      "outputs": [
        {
          "output_type": "execute_result",
          "data": {
            "text/plain": [
              "0.01100740329916511"
            ]
          },
          "metadata": {
            "tags": []
          },
          "execution_count": 51
        }
      ]
    },
    {
      "cell_type": "code",
      "metadata": {
        "id": "2Da8ceNUcX4U",
        "colab_type": "code",
        "colab": {
          "base_uri": "https://localhost:8080/",
          "height": 33
        },
        "outputId": "a522b8e4-90b6-46f1-9b28-cf5d7655de95"
      },
      "source": [
        "corr_four = data['fuel_cost_per_unit_burned'].corr(data['fuel_cost_per_mmbtu'])\n",
        "corr_four"
      ],
      "execution_count": null,
      "outputs": [
        {
          "output_type": "execute_result",
          "data": {
            "text/plain": [
              "-0.0004372104439704003"
            ]
          },
          "metadata": {
            "tags": []
          },
          "execution_count": 47
        }
      ]
    },
    {
      "cell_type": "code",
      "metadata": {
        "id": "v99DA31gdpd7",
        "colab_type": "code",
        "colab": {
          "base_uri": "https://localhost:8080/",
          "height": 33
        },
        "outputId": "c2dffb2e-e23f-448f-ab71-f14add97cfe9"
      },
      "source": [
        "corr_five = data['fuel_cost_per_unit_burned'].corr(data['report_year'])\n",
        "corr_five"
      ],
      "execution_count": null,
      "outputs": [
        {
          "output_type": "execute_result",
          "data": {
            "text/plain": [
              "0.013599134438134116"
            ]
          },
          "metadata": {
            "tags": []
          },
          "execution_count": 52
        }
      ]
    },
    {
      "cell_type": "code",
      "metadata": {
        "id": "ce5jt3Xvdyd2",
        "colab_type": "code",
        "colab": {
          "base_uri": "https://localhost:8080/",
          "height": 33
        },
        "outputId": "9219e6af-0127-4c3a-aa68-efae51cf66a8"
      },
      "source": [
        "corr_six = data['fuel_cost_per_unit_burned'].corr(data['utility_id_ferc1'])\n",
        "corr_six"
      ],
      "execution_count": null,
      "outputs": [
        {
          "output_type": "execute_result",
          "data": {
            "text/plain": [
              "-0.0378627075999726"
            ]
          },
          "metadata": {
            "tags": []
          },
          "execution_count": 53
        }
      ]
    },
    {
      "cell_type": "code",
      "metadata": {
        "id": "VnUNHtdPcuZ7",
        "colab_type": "code",
        "colab": {
          "base_uri": "https://localhost:8080/",
          "height": 133
        },
        "outputId": "6a333e2e-a13a-4d40-a42c-858e4c8ac9a3"
      },
      "source": [
        "corr = pd.Series(data=[corr_one, corr_two, corr_three, corr_four, corr_five, corr_six])\n",
        "corr = corr.sort_values(ascending=True)\n",
        "corr"
      ],
      "execution_count": null,
      "outputs": [
        {
          "output_type": "execute_result",
          "data": {
            "text/plain": [
              "5   -0.037863\n",
              "0   -0.018535\n",
              "1   -0.010034\n",
              "3   -0.000437\n",
              "2    0.011007\n",
              "4    0.013599\n",
              "dtype: float64"
            ]
          },
          "metadata": {
            "tags": []
          },
          "execution_count": 54
        }
      ]
    },
    {
      "cell_type": "markdown",
      "metadata": {
        "id": "_W1dqIE3q5tY",
        "colab_type": "text"
      },
      "source": [
        "##### The second lowest feature correlation is **fuel_qty_burned** and the third lowest feature is **fuel_mmbtu_per_unit** "
      ]
    },
    {
      "cell_type": "markdown",
      "metadata": {
        "id": "3XKFPEYKrRw5",
        "colab_type": "text"
      },
      "source": [
        "#### For the fuel type coal, the percentage change in the fuel cost per unit burned in 1998 compared to 1994"
      ]
    },
    {
      "cell_type": "code",
      "metadata": {
        "id": "I02P3-pBeT7R",
        "colab_type": "code",
        "colab": {
          "base_uri": "https://localhost:8080/",
          "height": 33
        },
        "outputId": "fdd7bded-f7da-4f01-f055-63d780f2cfa8"
      },
      "source": [
        "change = data[['report_year', 'fuel_type_code_pudl', 'fuel_cost_per_unit_burned']]\n",
        "change = change.set_index(['report_year', 'fuel_type_code_pudl'])\n",
        "change = change.groupby(by=['report_year', 'fuel_type_code_pudl']).sum()\n",
        "change = change.reset_index()\n",
        "\n",
        "fuel = change[change['fuel_type_code_pudl'] == 'coal']\n",
        "change = 11902.597 - 14984.572\n",
        "(change * 100) / 14984.572"
      ],
      "execution_count": null,
      "outputs": [
        {
          "output_type": "execute_result",
          "data": {
            "text/plain": [
              "-20.567654518260518"
            ]
          },
          "metadata": {
            "tags": []
          },
          "execution_count": 125
        }
      ]
    },
    {
      "cell_type": "markdown",
      "metadata": {
        "id": "hd2AMtWbrWmJ",
        "colab_type": "text"
      },
      "source": [
        "##### The change is **20.56%** on 1998 compared to 1994"
      ]
    },
    {
      "cell_type": "markdown",
      "metadata": {
        "id": "Gr-OCa5ejkfi",
        "colab_type": "text"
      },
      "source": [
        "#### Year with the Highest average of fuel cost per unit delivered"
      ]
    },
    {
      "cell_type": "code",
      "metadata": {
        "id": "zrqh9F1_f_8C",
        "colab_type": "code",
        "colab": {
          "base_uri": "https://localhost:8080/",
          "height": 827
        },
        "outputId": "b18a4314-45a9-441b-bf91-12f22780a307"
      },
      "source": [
        "avg = data[['report_year', 'fuel_cost_per_unit_delivered']]\n",
        "avg = avg.groupby([\"report_year\"]).mean()\n",
        "avg = avg.sort_values(by='fuel_cost_per_unit_delivered', ascending=True)\n",
        "avg"
      ],
      "execution_count": 128,
      "outputs": [
        {
          "output_type": "execute_result",
          "data": {
            "text/html": [
              "<div>\n",
              "<style scoped>\n",
              "    .dataframe tbody tr th:only-of-type {\n",
              "        vertical-align: middle;\n",
              "    }\n",
              "\n",
              "    .dataframe tbody tr th {\n",
              "        vertical-align: top;\n",
              "    }\n",
              "\n",
              "    .dataframe thead th {\n",
              "        text-align: right;\n",
              "    }\n",
              "</style>\n",
              "<table border=\"1\" class=\"dataframe\">\n",
              "  <thead>\n",
              "    <tr style=\"text-align: right;\">\n",
              "      <th></th>\n",
              "      <th>fuel_cost_per_unit_delivered</th>\n",
              "    </tr>\n",
              "    <tr>\n",
              "      <th>report_year</th>\n",
              "      <th></th>\n",
              "    </tr>\n",
              "  </thead>\n",
              "  <tbody>\n",
              "    <tr>\n",
              "      <th>1999</th>\n",
              "      <td>25.551627</td>\n",
              "    </tr>\n",
              "    <tr>\n",
              "      <th>1995</th>\n",
              "      <td>32.735269</td>\n",
              "    </tr>\n",
              "    <tr>\n",
              "      <th>2006</th>\n",
              "      <td>38.657484</td>\n",
              "    </tr>\n",
              "    <tr>\n",
              "      <th>2005</th>\n",
              "      <td>41.438184</td>\n",
              "    </tr>\n",
              "    <tr>\n",
              "      <th>2007</th>\n",
              "      <td>43.325023</td>\n",
              "    </tr>\n",
              "    <tr>\n",
              "      <th>2017</th>\n",
              "      <td>46.196861</td>\n",
              "    </tr>\n",
              "    <tr>\n",
              "      <th>2002</th>\n",
              "      <td>47.594361</td>\n",
              "    </tr>\n",
              "    <tr>\n",
              "      <th>2003</th>\n",
              "      <td>55.663493</td>\n",
              "    </tr>\n",
              "    <tr>\n",
              "      <th>2008</th>\n",
              "      <td>58.588197</td>\n",
              "    </tr>\n",
              "    <tr>\n",
              "      <th>2011</th>\n",
              "      <td>59.774667</td>\n",
              "    </tr>\n",
              "    <tr>\n",
              "      <th>2001</th>\n",
              "      <td>60.050396</td>\n",
              "    </tr>\n",
              "    <tr>\n",
              "      <th>2012</th>\n",
              "      <td>60.994502</td>\n",
              "    </tr>\n",
              "    <tr>\n",
              "      <th>1994</th>\n",
              "      <td>63.636060</td>\n",
              "    </tr>\n",
              "    <tr>\n",
              "      <th>2010</th>\n",
              "      <td>91.862105</td>\n",
              "    </tr>\n",
              "    <tr>\n",
              "      <th>2016</th>\n",
              "      <td>103.901761</td>\n",
              "    </tr>\n",
              "    <tr>\n",
              "      <th>2004</th>\n",
              "      <td>139.524275</td>\n",
              "    </tr>\n",
              "    <tr>\n",
              "      <th>2013</th>\n",
              "      <td>172.307591</td>\n",
              "    </tr>\n",
              "    <tr>\n",
              "      <th>2014</th>\n",
              "      <td>192.737183</td>\n",
              "    </tr>\n",
              "    <tr>\n",
              "      <th>1998</th>\n",
              "      <td>287.154420</td>\n",
              "    </tr>\n",
              "    <tr>\n",
              "      <th>2015</th>\n",
              "      <td>326.535511</td>\n",
              "    </tr>\n",
              "    <tr>\n",
              "      <th>2018</th>\n",
              "      <td>499.269966</td>\n",
              "    </tr>\n",
              "    <tr>\n",
              "      <th>2009</th>\n",
              "      <td>652.694163</td>\n",
              "    </tr>\n",
              "    <tr>\n",
              "      <th>2000</th>\n",
              "      <td>985.362877</td>\n",
              "    </tr>\n",
              "    <tr>\n",
              "      <th>1996</th>\n",
              "      <td>9196.705948</td>\n",
              "    </tr>\n",
              "    <tr>\n",
              "      <th>1997</th>\n",
              "      <td>11140.197239</td>\n",
              "    </tr>\n",
              "  </tbody>\n",
              "</table>\n",
              "</div>"
            ],
            "text/plain": [
              "             fuel_cost_per_unit_delivered\n",
              "report_year                              \n",
              "1999                            25.551627\n",
              "1995                            32.735269\n",
              "2006                            38.657484\n",
              "2005                            41.438184\n",
              "2007                            43.325023\n",
              "2017                            46.196861\n",
              "2002                            47.594361\n",
              "2003                            55.663493\n",
              "2008                            58.588197\n",
              "2011                            59.774667\n",
              "2001                            60.050396\n",
              "2012                            60.994502\n",
              "1994                            63.636060\n",
              "2010                            91.862105\n",
              "2016                           103.901761\n",
              "2004                           139.524275\n",
              "2013                           172.307591\n",
              "2014                           192.737183\n",
              "1998                           287.154420\n",
              "2015                           326.535511\n",
              "2018                           499.269966\n",
              "2009                           652.694163\n",
              "2000                           985.362877\n",
              "1996                          9196.705948\n",
              "1997                         11140.197239"
            ]
          },
          "metadata": {
            "tags": []
          },
          "execution_count": 128
        }
      ]
    },
    {
      "cell_type": "markdown",
      "metadata": {
        "id": "Y-jbY94mrkyI",
        "colab_type": "text"
      },
      "source": [
        "##### The year is **1997** with the highest average"
      ]
    }
  ]
}