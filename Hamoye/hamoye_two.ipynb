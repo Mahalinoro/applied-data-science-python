{
  "nbformat": 4,
  "nbformat_minor": 0,
  "metadata": {
    "colab": {
      "name": "hamoye_two.ipynb",
      "provenance": []
    },
    "kernelspec": {
      "name": "python3",
      "display_name": "Python 3"
    }
  },
  "cells": [
    {
      "cell_type": "code",
      "metadata": {
        "id": "O_smJ4RyIncD",
        "colab_type": "code",
        "colab": {
          "base_uri": "https://localhost:8080/",
          "height": 50
        },
        "outputId": "edc87612-2c87-45c6-8b02-80125e7b7580"
      },
      "source": [
        "import numpy as np\n",
        "import pandas as pd\n",
        "from sklearn.model_selection import train_test_split\n",
        "from sklearn.preprocessing import MinMaxScaler\n",
        "from sklearn.linear_model import LinearRegression\n",
        "\n",
        "# Importing dataset\n",
        "df = pd.read_csv('https://archive.ics.uci.edu/ml/machine-learning-databases/00374/energydata_complete.csv')\n",
        "\n",
        "# Data Preprocessing\n",
        "to_drop = ['date', 'lights']\n",
        "df = df.drop(to_drop, axis=1)\n",
        "\n",
        "# X_features = df.iloc[:,1:]\n",
        "# y_targets =  df.iloc[:, 0]\n",
        "\n",
        "# X_train, X_test, y_train, y_test = train_test_split(X_features, y_targets, random_state=42)\n",
        "\n",
        "# # Feauture Scaling\n",
        "# scaler = MinMaxScaler()\n",
        "# X_train_scaled = scaler.fit_transform(X_train)\n",
        "# X_test_scaled = scaler.transform(X_test)\n",
        "\n",
        "# linreg = LinearRegression().fit(X_train_scaled, y_train)\n",
        "\n",
        "# print('R-squared score (training): {:.3f}'\n",
        "#      .format(linreg.score(X_train_scaled, y_train)))\n",
        "# print('R-squared score (test): {:.3f}'\n",
        "#      .format(linreg.score(X_test_scaled, y_test)))"
      ],
      "execution_count": 18,
      "outputs": [
        {
          "output_type": "stream",
          "text": [
            "R-squared score (training): 0.148\n",
            "R-squared score (test): 0.139\n"
          ],
          "name": "stdout"
        }
      ]
    },
    {
      "cell_type": "code",
      "metadata": {
        "id": "GQxgLPSlSVK9",
        "colab_type": "code",
        "colab": {
          "base_uri": "https://localhost:8080/",
          "height": 33
        },
        "outputId": "4971af0e-7bb8-4350-a284-d984f37faf9f"
      },
      "source": [
        "# Question 1\n",
        "# From the dataset, fit a linear model on the relationship between the temperature in the living room in Celsius (x = T2) \n",
        "# and the temperature outside the building (y = T6). What is the R^2 value in two D.P?\n",
        "\n",
        "X_feature = df['T2']\n",
        "y_target =  df['T6']\n",
        "X_train, X_test, y_train, y_test = train_test_split(X_feature, y_target, test_size=0.3, random_state=42)\n",
        "\n",
        "# Feature Scaling\n",
        "scaler = MinMaxScaler()\n",
        "X_train_scaled = scaler.fit_transform(X_train.values.reshape(-1,1))\n",
        "X_test_scaled = scaler.transform(X_test.values.reshape(-1,1))\n",
        "\n",
        "linreg = LinearRegression().fit(X_train_scaled, y_train)\n",
        "\n",
        "print('R-squared score (test): {:.2f}'\n",
        "     .format(linreg.score(X_test_scaled, y_test)))"
      ],
      "execution_count": 43,
      "outputs": [
        {
          "output_type": "stream",
          "text": [
            "R-squared score (test): 0.64\n"
          ],
          "name": "stdout"
        }
      ]
    },
    {
      "cell_type": "code",
      "metadata": {
        "id": "V7Mj-cf5VPgj",
        "colab_type": "code",
        "colab": {
          "base_uri": "https://localhost:8080/",
          "height": 33
        },
        "outputId": "bf3fd9f7-7e79-48a1-cbf7-ae04c6dd0af2"
      },
      "source": [
        "# Question 2\n",
        "# What is the Mean Absolute Error (in two decimal places)?\n",
        "X_features = df.iloc[:,1:]\n",
        "y_targets =  df.iloc[:, 0]\n",
        "\n",
        "X_train, X_test, y_train, y_test = train_test_split(X_features, y_targets, random_state=42)\n",
        "\n",
        "# Feauture Scaling\n",
        "scaler = MinMaxScaler()\n",
        "X_train_scaled = scaler.fit_transform(X_train)\n",
        "X_test_scaled = scaler.transform(X_test)\n",
        "\n",
        "linreg = LinearRegression().fit(X_train_scaled, y_train)\n",
        "\n",
        "from sklearn.metrics import mean_absolute_error\n",
        "y_pred = linreg.predict(X_test_scaled)\n",
        "print('Mean Absolute Error: {:.2f}'\n",
        "     .format(mean_absolute_error(y_test, y_pred)\n",
        "))\n"
      ],
      "execution_count": 51,
      "outputs": [
        {
          "output_type": "stream",
          "text": [
            "Mean Absolute Error: 53.51\n"
          ],
          "name": "stdout"
        }
      ]
    },
    {
      "cell_type": "code",
      "metadata": {
        "id": "wjOp6cNSW_ZY",
        "colab_type": "code",
        "colab": {
          "base_uri": "https://localhost:8080/",
          "height": 33
        },
        "outputId": "32f6198f-aa6a-416e-a9cf-fdb67991753c"
      },
      "source": [
        "# Question 3\n",
        "# What is the Residual Sum of Squares (in two decimal places)?\n",
        "print(\"Residual sum of squares: %.2f\"\n",
        "  % ((y_pred - y_test) ** 2).sum())"
      ],
      "execution_count": 52,
      "outputs": [
        {
          "output_type": "stream",
          "text": [
            "Residual sum of squares: 42209545.33\n"
          ],
          "name": "stdout"
        }
      ]
    },
    {
      "cell_type": "code",
      "metadata": {
        "id": "qWpHzMZtYefX",
        "colab_type": "code",
        "colab": {
          "base_uri": "https://localhost:8080/",
          "height": 33
        },
        "outputId": "b68d36c4-f88d-4fcb-e406-7c8fb0089365"
      },
      "source": [
        "# Question 4\n",
        "# What is the Root Mean Squared Error (in three decimal places)?\n",
        "import math\n",
        "from sklearn.metrics import mean_squared_error\n",
        "\n",
        "mse = mean_squared_error(y_test, y_pred)\n",
        "rmse = math.sqrt(mse)\n",
        "print(\"Root Mean Squared Error: {:.3f}\"\n",
        "      .format(rmse))"
      ],
      "execution_count": 53,
      "outputs": [
        {
          "output_type": "stream",
          "text": [
            "Root Mean Squared Error: 92.492\n"
          ],
          "name": "stdout"
        }
      ]
    },
    {
      "cell_type": "code",
      "metadata": {
        "id": "9KkddxugZPbS",
        "colab_type": "code",
        "colab": {
          "base_uri": "https://localhost:8080/",
          "height": 33
        },
        "outputId": "dcd1f841-94ad-4ef4-b3b9-cd19ee3c992e"
      },
      "source": [
        "# Question 5\n",
        "# What is the Coefficient of Determination (in two decimal places)? \n",
        "from sklearn.metrics import r2_score\n",
        "print(\"Coefficient of Determination: {:.2f}\"\n",
        "      .format(r2_score(y_test, y_pred)))"
      ],
      "execution_count": 54,
      "outputs": [
        {
          "output_type": "stream",
          "text": [
            "Coefficient of Determination: 0.14\n"
          ],
          "name": "stdout"
        }
      ]
    },
    {
      "cell_type": "code",
      "metadata": {
        "id": "_BdUOoatZxwo",
        "colab_type": "code",
        "colab": {
          "base_uri": "https://localhost:8080/",
          "height": 827
        },
        "outputId": "f35bfb27-d0f8-499f-ce4f-295c471f7adc"
      },
      "source": [
        "# Question 6\n",
        "# Feature Weights\n",
        "weights = pd.DataFrame({\"Feature\":X_train.columns.tolist(),\"Coefficients\":linreg.coef_})\n",
        "weights.sort_values(by='Coefficients', ascending=True)"
      ],
      "execution_count": 64,
      "outputs": [
        {
          "output_type": "execute_result",
          "data": {
            "text/html": [
              "<div>\n",
              "<style scoped>\n",
              "    .dataframe tbody tr th:only-of-type {\n",
              "        vertical-align: middle;\n",
              "    }\n",
              "\n",
              "    .dataframe tbody tr th {\n",
              "        vertical-align: top;\n",
              "    }\n",
              "\n",
              "    .dataframe thead th {\n",
              "        text-align: right;\n",
              "    }\n",
              "</style>\n",
              "<table border=\"1\" class=\"dataframe\">\n",
              "  <thead>\n",
              "    <tr style=\"text-align: right;\">\n",
              "      <th></th>\n",
              "      <th>Feature</th>\n",
              "      <th>Coefficients</th>\n",
              "    </tr>\n",
              "  </thead>\n",
              "  <tbody>\n",
              "    <tr>\n",
              "      <th>3</th>\n",
              "      <td>RH_2</td>\n",
              "      <td>-500.771393</td>\n",
              "    </tr>\n",
              "    <tr>\n",
              "      <th>18</th>\n",
              "      <td>T_out</td>\n",
              "      <td>-327.934229</td>\n",
              "    </tr>\n",
              "    <tr>\n",
              "      <th>2</th>\n",
              "      <td>T2</td>\n",
              "      <td>-269.012119</td>\n",
              "    </tr>\n",
              "    <tr>\n",
              "      <th>16</th>\n",
              "      <td>T9</td>\n",
              "      <td>-200.463552</td>\n",
              "    </tr>\n",
              "    <tr>\n",
              "      <th>15</th>\n",
              "      <td>RH_8</td>\n",
              "      <td>-166.022333</td>\n",
              "    </tr>\n",
              "    <tr>\n",
              "      <th>20</th>\n",
              "      <td>RH_out</td>\n",
              "      <td>-71.391609</td>\n",
              "    </tr>\n",
              "    <tr>\n",
              "      <th>13</th>\n",
              "      <td>RH_7</td>\n",
              "      <td>-53.105868</td>\n",
              "    </tr>\n",
              "    <tr>\n",
              "      <th>17</th>\n",
              "      <td>RH_9</td>\n",
              "      <td>-44.078762</td>\n",
              "    </tr>\n",
              "    <tr>\n",
              "      <th>8</th>\n",
              "      <td>T5</td>\n",
              "      <td>-17.521824</td>\n",
              "    </tr>\n",
              "    <tr>\n",
              "      <th>25</th>\n",
              "      <td>rv2</td>\n",
              "      <td>0.504733</td>\n",
              "    </tr>\n",
              "    <tr>\n",
              "      <th>24</th>\n",
              "      <td>rv1</td>\n",
              "      <td>0.504733</td>\n",
              "    </tr>\n",
              "    <tr>\n",
              "      <th>0</th>\n",
              "      <td>T1</td>\n",
              "      <td>5.850748</td>\n",
              "    </tr>\n",
              "    <tr>\n",
              "      <th>19</th>\n",
              "      <td>Press_mm_hg</td>\n",
              "      <td>6.819620</td>\n",
              "    </tr>\n",
              "    <tr>\n",
              "      <th>22</th>\n",
              "      <td>Visibility</td>\n",
              "      <td>13.343546</td>\n",
              "    </tr>\n",
              "    <tr>\n",
              "      <th>9</th>\n",
              "      <td>RH_5</td>\n",
              "      <td>14.111752</td>\n",
              "    </tr>\n",
              "    <tr>\n",
              "      <th>12</th>\n",
              "      <td>T7</td>\n",
              "      <td>14.712927</td>\n",
              "    </tr>\n",
              "    <tr>\n",
              "      <th>6</th>\n",
              "      <td>T4</td>\n",
              "      <td>28.540703</td>\n",
              "    </tr>\n",
              "    <tr>\n",
              "      <th>21</th>\n",
              "      <td>Windspeed</td>\n",
              "      <td>32.030530</td>\n",
              "    </tr>\n",
              "    <tr>\n",
              "      <th>7</th>\n",
              "      <td>RH_4</td>\n",
              "      <td>33.181758</td>\n",
              "    </tr>\n",
              "    <tr>\n",
              "      <th>11</th>\n",
              "      <td>RH_6</td>\n",
              "      <td>40.130454</td>\n",
              "    </tr>\n",
              "    <tr>\n",
              "      <th>5</th>\n",
              "      <td>RH_3</td>\n",
              "      <td>100.278000</td>\n",
              "    </tr>\n",
              "    <tr>\n",
              "      <th>14</th>\n",
              "      <td>T8</td>\n",
              "      <td>108.853644</td>\n",
              "    </tr>\n",
              "    <tr>\n",
              "      <th>23</th>\n",
              "      <td>Tdewpoint</td>\n",
              "      <td>112.549366</td>\n",
              "    </tr>\n",
              "    <tr>\n",
              "      <th>10</th>\n",
              "      <td>T6</td>\n",
              "      <td>252.368863</td>\n",
              "    </tr>\n",
              "    <tr>\n",
              "      <th>4</th>\n",
              "      <td>T3</td>\n",
              "      <td>310.888313</td>\n",
              "    </tr>\n",
              "    <tr>\n",
              "      <th>1</th>\n",
              "      <td>RH_1</td>\n",
              "      <td>524.071640</td>\n",
              "    </tr>\n",
              "  </tbody>\n",
              "</table>\n",
              "</div>"
            ],
            "text/plain": [
              "        Feature  Coefficients\n",
              "3          RH_2   -500.771393\n",
              "18        T_out   -327.934229\n",
              "2            T2   -269.012119\n",
              "16           T9   -200.463552\n",
              "15         RH_8   -166.022333\n",
              "20       RH_out    -71.391609\n",
              "13         RH_7    -53.105868\n",
              "17         RH_9    -44.078762\n",
              "8            T5    -17.521824\n",
              "25          rv2      0.504733\n",
              "24          rv1      0.504733\n",
              "0            T1      5.850748\n",
              "19  Press_mm_hg      6.819620\n",
              "22   Visibility     13.343546\n",
              "9          RH_5     14.111752\n",
              "12           T7     14.712927\n",
              "6            T4     28.540703\n",
              "21    Windspeed     32.030530\n",
              "7          RH_4     33.181758\n",
              "11         RH_6     40.130454\n",
              "5          RH_3    100.278000\n",
              "14           T8    108.853644\n",
              "23    Tdewpoint    112.549366\n",
              "10           T6    252.368863\n",
              "4            T3    310.888313\n",
              "1          RH_1    524.071640"
            ]
          },
          "metadata": {
            "tags": []
          },
          "execution_count": 64
        }
      ]
    },
    {
      "cell_type": "code",
      "metadata": {
        "id": "cBNNnCZ9cdAx",
        "colab_type": "code",
        "colab": {
          "base_uri": "https://localhost:8080/",
          "height": 33
        },
        "outputId": "67fd9383-f19d-4c56-85c9-d36287b12e1f"
      },
      "source": [
        "# Question7\n",
        "# Train a ridge regression model with an alpha value of 0.4. \n",
        "# Is there any change to the root mean squared error (RMSE) when evaluated on the test set?\n",
        "from sklearn.linear_model import Ridge\n",
        "linridge = Ridge(alpha=0.4).fit(X_train_scaled, y_train)\n",
        "\n",
        "y_predrigde = linridge.predict(X_test_scaled)\n",
        "mse = mean_squared_error(y_test, y_predrigde)\n",
        "rmse = math.sqrt(mse)\n",
        "print(\"Root Mean Squared Error: {:.3f}\"\n",
        "      .format(rmse))"
      ],
      "execution_count": 55,
      "outputs": [
        {
          "output_type": "stream",
          "text": [
            "Root Mean Squared Error: 92.483\n"
          ],
          "name": "stdout"
        }
      ]
    },
    {
      "cell_type": "code",
      "metadata": {
        "id": "QNPbzUSldDek",
        "colab_type": "code",
        "colab": {
          "base_uri": "https://localhost:8080/",
          "height": 33
        },
        "outputId": "07232c11-74ba-43e0-fa50-c641c84e5eca"
      },
      "source": [
        "# Question 8\n",
        "# Train a lasso regression model with an alpha value of 0.001 and obtain the new feature weights with it. \n",
        "# How many of the features have non-zero feature weights?\n",
        "from sklearn.linear_model import Lasso\n",
        "linlasso = Lasso(alpha=0.001).fit(X_train_scaled, y_train)\n",
        "\n",
        "print('Number of non-zero features: {}'\n",
        "     .format(np.sum(linlasso.coef_ != 0)))"
      ],
      "execution_count": 56,
      "outputs": [
        {
          "output_type": "stream",
          "text": [
            "Number of non-zero features: 26\n"
          ],
          "name": "stdout"
        }
      ]
    },
    {
      "cell_type": "code",
      "metadata": {
        "id": "fs3ShQe8ditZ",
        "colab_type": "code",
        "colab": {
          "base_uri": "https://localhost:8080/",
          "height": 33
        },
        "outputId": "e43413fa-dd49-4449-94b8-8b123666d3fa"
      },
      "source": [
        "# Question 9\n",
        "# What is the new RMSE with the Lasso Regression (in 3 decimal places)?  \n",
        "y_predlasso = linlasso.predict(X_test_scaled)\n",
        "mse = mean_squared_error(y_test, y_predlasso)\n",
        "rmse = math.sqrt(mse)\n",
        "print(\"Root Mean Squared Error: {:.3f}\"\n",
        "      .format(rmse))"
      ],
      "execution_count": 57,
      "outputs": [
        {
          "output_type": "stream",
          "text": [
            "Root Mean Squared Error: 92.491\n"
          ],
          "name": "stdout"
        }
      ]
    }
  ]
}